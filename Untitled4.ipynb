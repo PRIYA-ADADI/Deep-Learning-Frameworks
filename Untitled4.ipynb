{
  "nbformat": 4,
  "nbformat_minor": 0,
  "metadata": {
    "colab": {
      "provenance": []
    },
    "kernelspec": {
      "name": "python3",
      "display_name": "Python 3"
    },
    "language_info": {
      "name": "python"
    }
  },
  "cells": [
    {
      "cell_type": "markdown",
      "source": [
        "\n",
        "# Question 1: What is TensorFlow 2.0, and how is it different from TensorFlow 1.x?\n",
        "\n",
        "\n",
        "TensorFlow 2.0 is a major release of TensorFlow that emphasizes ease-of-use, eager execution by default, and tight integration of Keras as the high-level API. Key differences vs 1.x:\n",
        "\n",
        "* Eager execution by default (interactive, Pythonic) vs graph-first in 1.x.\n",
        "* tf.keras is the recommended high-level API (simpler model building).\n",
        "* tf.function enables optional graph compilation for performance.\n",
        "* Cleaner APIs; many deprecated/complex 1.x patterns removed.\n",
        "* Better debugging and simpler workflows.\n",
        "\n",
        "\n",
        "# Question 2: How do you install TensorFlow 2.0?\n",
        " locally use pip. Colab-ready command:"
      ],
      "metadata": {
        "id": "byWKkh1E2h5y"
      }
    },
    {
      "cell_type": "code",
      "source": [
        "!pip install -q tensorflow"
      ],
      "metadata": {
        "id": "EI1iQi_t2LAk"
      },
      "execution_count": null,
      "outputs": []
    },
    {
      "cell_type": "markdown",
      "source": [
        "# Question 3: What is the primary function of the tf.function in TensorFlow 2.0?\n",
        "\n",
        "The primary function of `tf.function` is to convert a regular Python function that uses TensorFlow operations into a **computational graph**.\n",
        "This brings two main benefits:\n",
        "\n",
        "1. **Performance:** Graph execution is faster than eager execution because TensorFlow can optimize and parallelize operations.\n",
        "2. **Portability:** Graphs can be saved, serialized, and deployed on different platforms (like TensorFlow Serving, TFLite, or TPU).\n",
        "\n",
        "In short, tf.function combines the ease of Python coding with the speed and efficiency of graph execution.\n",
        "\n"
      ],
      "metadata": {
        "id": "70Kgv2OP3m4W"
      }
    },
    {
      "cell_type": "markdown",
      "source": [
        "\n",
        "#Question 4: What is the purpose of the Model class in TensorFlow 2.0?\n",
        "\n",
        "The `Model` class in TensorFlow 2.0 (under `tf.keras`) is the **foundation for building neural networks**. Its main purposes are:\n",
        "\n",
        "* It organizes and manages **layers** and **weights** of the network.\n",
        "* Provides built-in methods for **training** (`fit`), **evaluation** (`evaluate`), and **prediction** (`predict`).\n",
        "* Handles saving and loading models easily.\n",
        "* Enables both simple (Sequential) and complex (Functional/subclassing) architectures.\n",
        "\n",
        "\n",
        "\n",
        "#Question 5: How do you create a neural network using TensorFlow 2.0?\n",
        "\n",
        "In TensorFlow 2.0, you can create neural networks mainly through three approaches:\n",
        "\n",
        "1. **Sequential API** – Best for simple, layer-by-layer models.\n",
        "2. **Functional API** – Allows building more complex models with multiple inputs/outputs or non-linear connections.\n",
        "3. **Subclassing `tf.keras.Model`** – Offers full control by defining the model’s layers in `__init__` and the forward pass in `call()`.\n",
        "\n",
        "All three approaches integrate seamlessly with TensorFlow’s training, evaluation, and deployment tools.\n",
        "\n",
        "\n",
        "#Question 6: What is the importance of Tensor Space in TensorFlow?\n",
        "\n",
        "Tensor space represents the environment where all **multi-dimensional arrays (tensors)** live in TensorFlow. It defines shapes, dimensions, and data types. Understanding tensor space is crucial because it governs how data flows through a model, how layers connect, and how operations like broadcasting and reshaping work.\n",
        "\n",
        "\n",
        "\n",
        "#Question 7: How can TensorBoard be integrated with TensorFlow 2.0?\n",
        "\n",
        "TensorBoard integrates with TensorFlow 2.0 as a **visualization tool**. It helps track metrics like loss and accuracy, inspect computation graphs, visualize embeddings, and debug training. Integration is done using callbacks (`tf.keras.callbacks.TensorBoard`) or summary writing (`tf.summary`) during training.\n",
        "\n",
        "\n",
        "#Question 8: What is the purpose of TensorFlow Playground?\n",
        "\n",
        "TensorFlow Playground is an **interactive web tool** that demonstrates how simple neural networks learn. It allows experimenting with datasets, hidden layers, activation functions, and hyperparameters, providing a visual and intuitive way to understand neural network behavior.\n",
        "\n",
        "\n",
        "\n",
        "#Question 9: What is Netron, and how is it useful for deep learning models?\n",
        "\n",
        "Netron is a **model visualization tool** for deep learning frameworks. It can open model files (e.g., TensorFlow `.pb`, PyTorch `.pt`, ONNX `.onnx`, TFLite `.tflite`) and display the architecture, layers, and shapes. It is useful for inspecting, debugging, and understanding models.\n",
        "\n",
        "\n",
        "\n",
        "#Question 10: What is the difference between TensorFlow and PyTorch?\n",
        "\n",
        "TensorFlow emphasizes **production deployment**, offering tools like TensorBoard, TensorFlow Lite, and TensorFlow Serving. PyTorch emphasizes **research flexibility**, with dynamic computation graphs and Pythonic design. Both support eager execution, GPU acceleration, and pre-trained models, but TensorFlow is stronger in deployment, while PyTorch is often preferred in academia.\n",
        "\n",
        "\n",
        "\n",
        "#Question 11: How do you install PyTorch?\n",
        "\n",
        "PyTorch can be installed with the package manager **pip**. The simplest command is `pip install torch torchvision`. For GPU versions, PyTorch provides commands specific to the CUDA version. After installation, the version can be verified by importing `torch` and printing `torch.__version__`.\n",
        "\n",
        "\n",
        "\n",
        "#Question 12: What is the basic structure of a PyTorch neural network?\n",
        "\n",
        "A PyTorch neural network is defined by creating a class that inherits from `torch.nn.Module`. Inside the class, layers are initialized in `__init__`, and the forward computation is defined in `forward()`. This structure allows flexibility and customization for different model designs.\n",
        "\n",
        "\n",
        "#Question 13: What is the significance of tensors in PyTorch?\n",
        "\n",
        "Tensors are the **fundamental data structure** in PyTorch, representing multi-dimensional arrays similar to NumPy but with GPU acceleration. They store inputs, parameters, and outputs, and support automatic differentiation, making them essential for deep learning computations.\n",
        "\n",
        "\n",
        "\n",
        "#Question 14: What is the difference between torch.Tensor and torch.cuda.Tensor in PyTorch?\n",
        "\n",
        "\n",
        "* **torch.Tensor:** Resides on the CPU and is used for general computations.\n",
        "* **torch.cuda.Tensor:** Resides on the GPU and enables faster, parallelized computations using CUDA.\n",
        "  Moving between them is done with `.to(device)` or `.cuda()`.\n",
        "\n",
        "\n",
        "#Question 15: What is the purpose of the torch.optim module in PyTorch?\n",
        "\n",
        "The `torch.optim` module provides standard **optimization algorithms** like SGD, Adam, and RMSProp. These optimizers update model parameters based on gradients from backpropagation, enabling the model to learn effectively.\n",
        "\n",
        "\n",
        "\n",
        "#Question 16: What are some common activation functions used in neural networks?\n",
        "\n",
        "Common activation functions include:\n",
        "\n",
        "* **ReLU:** Efficient and widely used.\n",
        "* **Sigmoid:** Outputs values between 0 and 1.\n",
        "* **Tanh:** Outputs values between -1 and 1.\n",
        "* **Softmax:** Converts outputs into probabilities for classification.\n",
        "  Other modern activations include Leaky ReLU, ELU, and GELU.\n",
        "\n",
        "\n",
        "#Question 17: What is the difference between torch.nn.Module and torch.nn.Sequential in PyTorch?\n",
        "\n",
        "\n",
        "* **nn.Module:** The base class for all PyTorch models; allows custom architectures and complex forward passes.\n",
        "* **nn.Sequential:** A container for stacking layers in a fixed sequence; simpler but less flexible for non-linear or multi-branch models.\n",
        "\n",
        "\n",
        "\n",
        "#Question 18: How can you monitor training progress in TensorFlow 2.0?\n",
        "\n",
        "Training progress can be monitored using:\n",
        "\n",
        "* **Callbacks** like TensorBoard, ModelCheckpoint, and EarlyStopping.\n",
        "* The **History object** returned by `model.fit`.\n",
        "* Custom logging with `tf.summary`.\n",
        "  These methods track loss, accuracy, and other metrics during training.\n",
        "\n",
        "\n",
        "\n",
        "#Question 19: How does the Keras API fit into TensorFlow 2.0?\n",
        "\n",
        "Keras is fully integrated as **`tf.keras`**, serving as TensorFlow’s official high-level API. It simplifies model definition, training, evaluation, and deployment while benefiting from TensorFlow’s performance and scalability.\n",
        "\n",
        "\n",
        "#Question 20: What is an example of a deep learning project that can be implemented using TensorFlow 2.0?\n",
        "\n",
        "Examples include image classification on datasets like MNIST or CIFAR-10, sentiment analysis using RNNs or transformers, object detection with pre-trained models, and time-series forecasting. TensorFlow 2.0 supports both small projects and large-scale industrial applications.\n",
        "\n",
        "\n",
        "#Question 21: What is the main advantage of using pre-trained models in TensorFlow and PyTorch?\n",
        "\n",
        "\n",
        "The main advantage is **transfer learning**. Pre-trained models have already learned rich feature representations from large datasets, so they reduce training time, require less data, and improve performance when fine-tuned for new tasks.\n",
        "\n",
        "#**PRACTICAL Questions**\n",
        "#Question 1: How do you install and verify that TensorFlow 2.0 was installed successfully?\n"
      ],
      "metadata": {
        "id": "qrR5iEwv2bt_"
      }
    },
    {
      "cell_type": "code",
      "source": [
        "#Since we havealready installed tensorflow in question-2, lets verify if its installed.\n",
        "import tensorflow as tf\n",
        "\n",
        "# Print version\n",
        "print(\"TensorFlow version:\", tf.__version__)\n",
        "\n",
        "# Simple test operation\n",
        "a = tf.constant([2.0, 3.0])\n",
        "b = tf.constant([4.0, 5.0])\n",
        "print(\"Addition result:\", (a + b).numpy())\n"
      ],
      "metadata": {
        "colab": {
          "base_uri": "https://localhost:8080/"
        },
        "id": "BYMjt5OI6Vrs",
        "outputId": "5d022bad-7953-4a0c-c2e0-68ac7341c1da"
      },
      "execution_count": null,
      "outputs": [
        {
          "output_type": "stream",
          "name": "stdout",
          "text": [
            "TensorFlow version: 2.12.1\n",
            "Addition result: [6. 8.]\n"
          ]
        }
      ]
    },
    {
      "cell_type": "markdown",
      "source": [
        "#Question 2: How can you define a simple function in TensorFlow 2.0 to perform addition?"
      ],
      "metadata": {
        "id": "wiNkBtPO6aCq"
      }
    },
    {
      "cell_type": "code",
      "source": [
        "import tensorflow as tf\n",
        "\n",
        "def add_numbers(x, y):\n",
        "    return tf.add(x, y)\n",
        "\n",
        "print(\"Result:\", add_numbers(tf.constant(5), tf.constant(7)).numpy())\n"
      ],
      "metadata": {
        "colab": {
          "base_uri": "https://localhost:8080/"
        },
        "id": "6DfCK2Hg98U7",
        "outputId": "4752dbff-660c-407b-df12-7c33162af74e"
      },
      "execution_count": null,
      "outputs": [
        {
          "output_type": "stream",
          "name": "stdout",
          "text": [
            "Result: 12\n"
          ]
        }
      ]
    },
    {
      "cell_type": "markdown",
      "source": [
        "#Question 3: How can you create a simple neural network in TensorFlow 2.0 with one hidden layer?"
      ],
      "metadata": {
        "id": "6dTu3iPm-CHj"
      }
    },
    {
      "cell_type": "code",
      "source": [
        "import tensorflow as tf\n",
        "from tensorflow.keras import layers, models\n",
        "\n",
        "model = models.Sequential([\n",
        "    layers.Input(shape=(784,)),\n",
        "    layers.Dense(64, activation='relu'),\n",
        "    layers.Dense(10, activation='softmax')\n",
        "])\n",
        "\n",
        "model.compile(optimizer='adam',\n",
        "              loss='sparse_categorical_crossentropy',\n",
        "              metrics=['accuracy'])\n",
        "\n",
        "model.summary()\n"
      ],
      "metadata": {
        "colab": {
          "base_uri": "https://localhost:8080/"
        },
        "id": "EZHFDWK4-M64",
        "outputId": "6daa9259-76d1-4a75-b8e4-9ea6d0cc0ade"
      },
      "execution_count": null,
      "outputs": [
        {
          "output_type": "stream",
          "name": "stdout",
          "text": [
            "Model: \"sequential\"\n",
            "_________________________________________________________________\n",
            " Layer (type)                Output Shape              Param #   \n",
            "=================================================================\n",
            " dense (Dense)               (None, 64)                50240     \n",
            "                                                                 \n",
            " dense_1 (Dense)             (None, 10)                650       \n",
            "                                                                 \n",
            "=================================================================\n",
            "Total params: 50,890\n",
            "Trainable params: 50,890\n",
            "Non-trainable params: 0\n",
            "_________________________________________________________________\n"
          ]
        }
      ]
    },
    {
      "cell_type": "markdown",
      "source": [
        "#Question 4: How can you visualize the training progress using TensorFlow and Matplotlib?"
      ],
      "metadata": {
        "id": "9rar7FD9-OvA"
      }
    },
    {
      "cell_type": "code",
      "source": [
        "import tensorflow as tf\n",
        "import matplotlib.pyplot as plt\n",
        "from tensorflow.keras import layers, models\n",
        "\n",
        "# Sample dataset (MNIST)\n",
        "(x_train, y_train), (x_val, y_val) = tf.keras.datasets.mnist.load_data()\n",
        "x_train = x_train.reshape(-1, 28*28).astype(\"float32\")/255.0\n",
        "x_val = x_val.reshape(-1, 28*28).astype(\"float32\")/255.0\n",
        "\n",
        "model = models.Sequential([\n",
        "    layers.Input(shape=(784,)),\n",
        "    layers.Dense(64, activation='relu'),\n",
        "    layers.Dense(10, activation='softmax')\n",
        "])\n",
        "model.compile(optimizer='adam',\n",
        "              loss='sparse_categorical_crossentropy',\n",
        "              metrics=['accuracy'])\n",
        "\n",
        "history = model.fit(x_train, y_train, validation_data=(x_val, y_val), epochs=3)\n",
        "\n",
        "plt.plot(history.history['loss'], label='Train Loss')\n",
        "plt.plot(history.history['val_loss'], label='Validation Loss')\n",
        "plt.legend()\n",
        "plt.title(\"Loss Curve\")\n",
        "plt.show()\n",
        "\n",
        "plt.plot(history.history['accuracy'], label='Train Acc')\n",
        "plt.plot(history.history['val_accuracy'], label='Validation Acc')\n",
        "plt.legend()\n",
        "plt.title(\"Accuracy Curve\")\n",
        "plt.show()\n"
      ],
      "metadata": {
        "colab": {
          "base_uri": "https://localhost:8080/",
          "height": 1000
        },
        "id": "5w_wHkRN-SGo",
        "outputId": "72a914a4-8142-4601-c768-86c7e20a2520"
      },
      "execution_count": null,
      "outputs": [
        {
          "output_type": "stream",
          "name": "stdout",
          "text": [
            "Downloading data from https://storage.googleapis.com/tensorflow/tf-keras-datasets/mnist.npz\n",
            "11490434/11490434 [==============================] - 0s 0us/step\n",
            "Epoch 1/3\n",
            "1875/1875 [==============================] - 8s 3ms/step - loss: 0.3040 - accuracy: 0.9142 - val_loss: 0.1678 - val_accuracy: 0.9509\n",
            "Epoch 2/3\n",
            "1875/1875 [==============================] - 6s 3ms/step - loss: 0.1474 - accuracy: 0.9574 - val_loss: 0.1333 - val_accuracy: 0.9621\n",
            "Epoch 3/3\n",
            "1875/1875 [==============================] - 7s 3ms/step - loss: 0.1063 - accuracy: 0.9692 - val_loss: 0.1060 - val_accuracy: 0.9694\n"
          ]
        },
        {
          "output_type": "display_data",
          "data": {
            "text/plain": [
              "<Figure size 640x480 with 1 Axes>"
            ],
            "image/png": "[encoded data removed]"
          },
          "metadata": {}
        },
        {
          "output_type": "display_data",
          "data": {
            "text/plain": [
              "<Figure size 640x480 with 1 Axes>"
            ],
            "image/png": "[encoded data removed]"
          },
          "metadata": {}
        }
      ]
    },
    {
      "cell_type": "markdown",
      "source": [
        "#Question 5: How do you install PyTorch and verify the PyTorch installation?"
      ],
      "metadata": {
        "id": "4m9V_jff-XbZ"
      }
    },
    {
      "cell_type": "code",
      "source": [
        "!pip uninstall -y torch torchvision torchaudio\n",
        "\n",
        "!pip install torch torchvision torchaudio --index-url https://download.pytorch.org/whl/cu121\n",
        "\n",
        "import torch\n",
        "print(\"PyTorch version:\", torch.__version__)\n",
        "print(\"CUDA available:\", torch.cuda.is_available())\n",
        "\n"
      ],
      "metadata": {
        "colab": {
          "base_uri": "https://localhost:8080/"
        },
        "id": "LA2LJ3-n-fQf",
        "outputId": "f2faddba-7c89-486c-cf00-3b5ea3c9625f"
      },
      "execution_count": null,
      "outputs": [
        {
          "output_type": "stream",
          "name": "stdout",
          "text": [
            "\u001b[33mWARNING: Ignoring invalid distribution ~orch (/usr/local/lib/python3.11/dist-packages)\u001b[0m\u001b[33m\n",
            "\u001b[0m\u001b[33mWARNING: Skipping torch as it is not installed.\u001b[0m\u001b[33m\n",
            "\u001b[0m\u001b[33mWARNING: Ignoring invalid distribution ~orch (/usr/local/lib/python3.11/dist-packages)\u001b[0m\u001b[33m\n",
            "\u001b[0mFound existing installation: torchvision 0.21.0+cu124\n",
            "Uninstalling torchvision-0.21.0+cu124:\n",
            "  Successfully uninstalled torchvision-0.21.0+cu124\n",
            "\u001b[33mWARNING: Ignoring invalid distribution ~orch (/usr/local/lib/python3.11/dist-packages)\u001b[0m\u001b[33m\n",
            "\u001b[0mFound existing installation: torchaudio 2.6.0+cu124\n",
            "Uninstalling torchaudio-2.6.0+cu124:\n",
            "  Successfully uninstalled torchaudio-2.6.0+cu124\n",
            "\u001b[33mWARNING: Ignoring invalid distribution ~orch (/usr/local/lib/python3.11/dist-packages)\u001b[0m\u001b[33m\n",
            "\u001b[0mLooking in indexes: https://download.pytorch.org/whl/cu121\n",
            "Collecting torch\n",
            "  Downloading https://download.pytorch.org/whl/cu121/torch-2.5.1%2Bcu121-cp311-cp311-linux_x86_64.whl (780.5 MB)\n",
            "\u001b[2K     \u001b[90m━━━━━━━━━━━━━━━━━━━━━━━━━━━━━━━━━━━━━━━━\u001b[0m \u001b[32m780.5/780.5 MB\u001b[0m \u001b[31m41.7 MB/s\u001b[0m  \u001b[33m0:00:15\u001b[0m\n",
            "\u001b[?25hCollecting torchvision\n",
            "  Downloading https://download.pytorch.org/whl/cu121/torchvision-0.20.1%2Bcu121-cp311-cp311-linux_x86_64.whl (7.3 MB)\n",
            "\u001b[2K     \u001b[90m━━━━━━━━━━━━━━━━━━━━━━━━━━━━━━━━━━━━━━━━\u001b[0m \u001b[32m7.3/7.3 MB\u001b[0m \u001b[31m97.0 MB/s\u001b[0m  \u001b[33m0:00:00\u001b[0m\n",
            "\u001b[?25hCollecting torchaudio\n",
            "  Downloading https://download.pytorch.org/whl/cu121/torchaudio-2.5.1%2Bcu121-cp311-cp311-linux_x86_64.whl (3.4 MB)\n",
            "\u001b[2K     \u001b[90m━━━━━━━━━━━━━━━━━━━━━━━━━━━━━━━━━━━━━━━━\u001b[0m \u001b[32m3.4/3.4 MB\u001b[0m \u001b[31m88.3 MB/s\u001b[0m  \u001b[33m0:00:00\u001b[0m\n",
            "\u001b[?25hRequirement already satisfied: filelock in /usr/local/lib/python3.11/dist-packages (from torch) (3.18.0)\n",
            "Requirement already satisfied: typing-extensions>=4.8.0 in /usr/local/lib/python3.11/dist-packages (from torch) (4.14.1)\n",
            "Requirement already satisfied: networkx in /usr/local/lib/python3.11/dist-packages (from torch) (3.5)\n",
            "Requirement already satisfied: jinja2 in /usr/local/lib/python3.11/dist-packages (from torch) (3.1.6)\n",
            "Requirement already satisfied: fsspec in /usr/local/lib/python3.11/dist-packages (from torch) (2025.3.0)\n",
            "Collecting nvidia-cuda-nvrtc-cu12==12.1.105 (from torch)\n",
            "  Downloading https://download.pytorch.org/whl/cu121/nvidia_cuda_nvrtc_cu12-12.1.105-py3-none-manylinux1_x86_64.whl (23.7 MB)\n",
            "\u001b[2K     \u001b[90m━━━━━━━━━━━━━━━━━━━━━━━━━━━━━━━━━━━━━━━━\u001b[0m \u001b[32m23.7/23.7 MB\u001b[0m \u001b[31m132.2 MB/s\u001b[0m  \u001b[33m0:00:00\u001b[0m\n",
            "\u001b[?25hCollecting nvidia-cuda-runtime-cu12==12.1.105 (from torch)\n",
            "  Downloading https://download.pytorch.org/whl/cu121/nvidia_cuda_runtime_cu12-12.1.105-py3-none-manylinux1_x86_64.whl (823 kB)\n",
            "\u001b[2K     \u001b[90m━━━━━━━━━━━━━━━━━━━━━━━━━━━━━━━━━━━━━━━━\u001b[0m \u001b[32m823.6/823.6 kB\u001b[0m \u001b[31m33.5 MB/s\u001b[0m  \u001b[33m0:00:00\u001b[0m\n",
            "\u001b[?25hCollecting nvidia-cuda-cupti-cu12==12.1.105 (from torch)\n",
            "  Downloading https://download.pytorch.org/whl/cu121/nvidia_cuda_cupti_cu12-12.1.105-py3-none-manylinux1_x86_64.whl (14.1 MB)\n",
            "\u001b[2K     \u001b[90m━━━━━━━━━━━━━━━━━━━━━━━━━━━━━━━━━━━━━━━━\u001b[0m \u001b[32m14.1/14.1 MB\u001b[0m \u001b[31m141.7 MB/s\u001b[0m  \u001b[33m0:00:00\u001b[0m\n",
            "\u001b[?25hRequirement already satisfied: nvidia-cudnn-cu12==9.1.0.70 in /usr/local/lib/python3.11/dist-packages (from torch) (9.1.0.70)\n",
            "Collecting nvidia-cublas-cu12==12.1.3.1 (from torch)\n",
            "  Downloading https://download.pytorch.org/whl/cu121/nvidia_cublas_cu12-12.1.3.1-py3-none-manylinux1_x86_64.whl (410.6 MB)\n",
            "\u001b[2K     \u001b[90m━━━━━━━━━━━━━━━━━━━━━━━━━━━━━━━━━━━━━━━━\u001b[0m \u001b[32m410.6/410.6 MB\u001b[0m \u001b[31m55.2 MB/s\u001b[0m  \u001b[33m0:00:05\u001b[0m\n",
            "\u001b[?25hCollecting nvidia-cufft-cu12==11.0.2.54 (from torch)\n",
            "  Downloading https://download.pytorch.org/whl/cu121/nvidia_cufft_cu12-11.0.2.54-py3-none-manylinux1_x86_64.whl (121.6 MB)\n",
            "\u001b[2K     \u001b[90m━━━━━━━━━━━━━━━━━━━━━━━━━━━━━━━━━━━━━━━━\u001b[0m \u001b[32m121.6/121.6 MB\u001b[0m \u001b[31m66.4 MB/s\u001b[0m  \u001b[33m0:00:01\u001b[0m\n",
            "\u001b[?25hCollecting nvidia-curand-cu12==10.3.2.106 (from torch)\n",
            "  Downloading https://download.pytorch.org/whl/cu121/nvidia_curand_cu12-10.3.2.106-py3-none-manylinux1_x86_64.whl (56.5 MB)\n",
            "\u001b[2K     \u001b[90m━━━━━━━━━━━━━━━━━━━━━━━━━━━━━━━━━━━━━━━━\u001b[0m \u001b[32m56.5/56.5 MB\u001b[0m \u001b[31m63.0 MB/s\u001b[0m  \u001b[33m0:00:00\u001b[0m\n",
            "\u001b[?25hCollecting nvidia-cusolver-cu12==11.4.5.107 (from torch)\n",
            "  Downloading https://download.pytorch.org/whl/cu121/nvidia_cusolver_cu12-11.4.5.107-py3-none-manylinux1_x86_64.whl (124.2 MB)\n",
            "\u001b[2K     \u001b[90m━━━━━━━━━━━━━━━━━━━━━━━━━━━━━━━━━━━━━━━━\u001b[0m \u001b[32m124.2/124.2 MB\u001b[0m \u001b[31m62.6 MB/s\u001b[0m  \u001b[33m0:00:01\u001b[0m\n",
            "\u001b[?25hCollecting nvidia-cusparse-cu12==12.1.0.106 (from torch)\n",
            "  Downloading https://download.pytorch.org/whl/cu121/nvidia_cusparse_cu12-12.1.0.106-py3-none-manylinux1_x86_64.whl (196.0 MB)\n",
            "\u001b[2K     \u001b[90m━━━━━━━━━━━━━━━━━━━━━━━━━━━━━━━━━━━━━━━━\u001b[0m \u001b[32m196.0/196.0 MB\u001b[0m \u001b[31m60.6 MB/s\u001b[0m  \u001b[33m0:00:03\u001b[0m\n",
            "\u001b[?25hRequirement already satisfied: nvidia-nccl-cu12==2.21.5 in /usr/local/lib/python3.11/dist-packages (from torch) (2.21.5)\n",
            "Collecting nvidia-nvtx-cu12==12.1.105 (from torch)\n",
            "  Downloading https://download.pytorch.org/whl/cu121/nvidia_nvtx_cu12-12.1.105-py3-none-manylinux1_x86_64.whl (99 kB)\n",
            "Collecting triton==3.1.0 (from torch)\n",
            "  Downloading https://download.pytorch.org/whl/triton-3.1.0-cp311-cp311-manylinux_2_17_x86_64.manylinux2014_x86_64.whl (209.5 MB)\n",
            "\u001b[2K     \u001b[90m━━━━━━━━━━━━━━━━━━━━━━━━━━━━━━━━━━━━━━━━\u001b[0m \u001b[32m209.5/209.5 MB\u001b[0m \u001b[31m71.7 MB/s\u001b[0m  \u001b[33m0:00:02\u001b[0m\n",
            "\u001b[?25hRequirement already satisfied: sympy==1.13.1 in /usr/local/lib/python3.11/dist-packages (from torch) (1.13.1)\n",
            "Requirement already satisfied: nvidia-nvjitlink-cu12 in /usr/local/lib/python3.11/dist-packages (from nvidia-cusolver-cu12==11.4.5.107->torch) (12.4.127)\n",
            "Requirement already satisfied: mpmath<1.4,>=1.1.0 in /usr/local/lib/python3.11/dist-packages (from sympy==1.13.1->torch) (1.3.0)\n",
            "Requirement already satisfied: numpy in /usr/local/lib/python3.11/dist-packages (from torchvision) (1.24.3)\n",
            "Requirement already satisfied: pillow!=8.3.*,>=5.3.0 in /usr/local/lib/python3.11/dist-packages (from torchvision) (11.3.0)\n",
            "Requirement already satisfied: MarkupSafe>=2.0 in /usr/local/lib/python3.11/dist-packages (from jinja2->torch) (3.0.2)\n",
            "\u001b[33mWARNING: Ignoring invalid distribution ~orch (/usr/local/lib/python3.11/dist-packages)\u001b[0m\u001b[33m\n",
            "\u001b[0mInstalling collected packages: triton, nvidia-nvtx-cu12, nvidia-cusparse-cu12, nvidia-curand-cu12, nvidia-cufft-cu12, nvidia-cuda-runtime-cu12, nvidia-cuda-nvrtc-cu12, nvidia-cuda-cupti-cu12, nvidia-cublas-cu12, nvidia-cusolver-cu12, torch, torchvision, torchaudio\n",
            "\u001b[2K  Attempting uninstall: triton\n",
            "\u001b[2K    Found existing installation: triton 3.2.0\n",
            "\u001b[2K    Uninstalling triton-3.2.0:\n",
            "\u001b[2K      Successfully uninstalled triton-3.2.0\n",
            "\u001b[2K  Attempting uninstall: nvidia-nvtx-cu12\n",
            "   \u001b[90m━━━━━━━━━━━━━━━━━━━━━━━━━━━━━━━━━━━━━━━━\u001b[0m \u001b[32m 0/13\u001b[0m [triton]\u001b[33m    WARNING: Ignoring invalid distribution ~orch (/usr/local/lib/python3.11/dist-packages)\u001b[0m\u001b[33m\n",
            "\u001b[2K    Found existing installation: nvidia-nvtx-cu12 12.4.127\n",
            "\u001b[2K    Uninstalling nvidia-nvtx-cu12-12.4.127:\n",
            "\u001b[2K      Successfully uninstalled nvidia-nvtx-cu12-12.4.127\n",
            "\u001b[2K  Attempting uninstall: nvidia-cusparse-cu12\n",
            "\u001b[2K    Found existing installation: nvidia-cusparse-cu12 12.3.1.170\n",
            "\u001b[2K    Uninstalling nvidia-cusparse-cu12-12.3.1.170:\n",
            "\u001b[2K      Successfully uninstalled nvidia-cusparse-cu12-12.3.1.170\n",
            "\u001b[2K  Attempting uninstall: nvidia-curand-cu12\n",
            "\u001b[2K    Found existing installation: nvidia-curand-cu12 10.3.5.147\n",
            "\u001b[2K    Uninstalling nvidia-curand-cu12-10.3.5.147:\n",
            "\u001b[2K      Successfully uninstalled nvidia-curand-cu12-10.3.5.147\n",
            "\u001b[2K  Attempting uninstall: nvidia-cufft-cu12\n",
            "\u001b[2K    Found existing installation: nvidia-cufft-cu12 11.2.1.3\n",
            "\u001b[2K    Uninstalling nvidia-cufft-cu12-11.2.1.3:\n",
            "\u001b[2K      Successfully uninstalled nvidia-cufft-cu12-11.2.1.3\n",
            "\u001b[2K  Attempting uninstall: nvidia-cuda-runtime-cu12\n",
            "\u001b[2K    Found existing installation: nvidia-cuda-runtime-cu12 12.4.127\n",
            "\u001b[2K    Uninstalling nvidia-cuda-runtime-cu12-12.4.127:\n",
            "\u001b[2K      Successfully uninstalled nvidia-cuda-runtime-cu12-12.4.127\n",
            "\u001b[2K  Attempting uninstall: nvidia-cuda-nvrtc-cu12\n",
            "\u001b[2K    Found existing installation: nvidia-cuda-nvrtc-cu12 12.4.127\n",
            "\u001b[2K    Uninstalling nvidia-cuda-nvrtc-cu12-12.4.127:\n",
            "\u001b[2K      Successfully uninstalled nvidia-cuda-nvrtc-cu12-12.4.127\n",
            "\u001b[2K  Attempting uninstall: nvidia-cuda-cupti-cu12\n",
            "\u001b[2K    Found existing installation: nvidia-cuda-cupti-cu12 12.4.127\n",
            "\u001b[2K    Uninstalling nvidia-cuda-cupti-cu12-12.4.127:\n",
            "\u001b[2K      Successfully uninstalled nvidia-cuda-cupti-cu12-12.4.127\n",
            "\u001b[2K  Attempting uninstall: nvidia-cublas-cu12\n",
            "\u001b[2K    Found existing installation: nvidia-cublas-cu12 12.4.5.8\n",
            "\u001b[2K    Uninstalling nvidia-cublas-cu12-12.4.5.8:\n",
            "\u001b[2K      Successfully uninstalled nvidia-cublas-cu12-12.4.5.8\n",
            "\u001b[2K  Attempting uninstall: nvidia-cusolver-cu12\n",
            "\u001b[2K    Found existing installation: nvidia-cusolver-cu12 11.6.1.9\n",
            "\u001b[2K    Uninstalling nvidia-cusolver-cu12-11.6.1.9:\n",
            "\u001b[2K      Successfully uninstalled nvidia-cusolver-cu12-11.6.1.9\n",
            "\u001b[2K   \u001b[90m━━━━━━━━━━━━━━━━━━━━━━━━━━━━━━━━━━━━━━━━\u001b[0m \u001b[32m13/13\u001b[0m [torchaudio]\n",
            "\u001b[1A\u001b[2K\u001b[33mWARNING: Ignoring invalid distribution ~orch (/usr/local/lib/python3.11/dist-packages)\u001b[0m\u001b[33m\n",
            "\u001b[0mSuccessfully installed nvidia-cublas-cu12-12.1.3.1 nvidia-cuda-cupti-cu12-12.1.105 nvidia-cuda-nvrtc-cu12-12.1.105 nvidia-cuda-runtime-cu12-12.1.105 nvidia-cufft-cu12-11.0.2.54 nvidia-curand-cu12-10.3.2.106 nvidia-cusolver-cu12-11.4.5.107 nvidia-cusparse-cu12-12.1.0.106 nvidia-nvtx-cu12-12.1.105 torch-2.5.1+cu121 torchaudio-2.5.1+cu121 torchvision-0.20.1+cu121 triton-3.1.0\n",
            "PyTorch version: 2.5.1+cu121\n",
            "CUDA available: False\n"
          ]
        }
      ]
    },
    {
      "cell_type": "markdown",
      "source": [
        "#Question 6: How do you create a simple neural network in PyTorch?"
      ],
      "metadata": {
        "id": "v3x0OtK_-hZq"
      }
    },
    {
      "cell_type": "code",
      "source": [
        "import torch\n",
        "import torch.nn as nn\n",
        "import torch.nn.functional as F\n",
        "\n",
        "class SimpleNet(nn.Module):\n",
        "    def __init__(self):\n",
        "        super(SimpleNet, self).__init__()\n",
        "        self.fc1 = nn.Linear(784, 64)\n",
        "        self.fc2 = nn.Linear(64, 10)\n",
        "\n",
        "    def forward(self, x):\n",
        "        x = x.view(x.size(0), -1)\n",
        "        x = F.relu(self.fc1(x))\n",
        "        x = self.fc2(x)\n",
        "        return x\n",
        "\n",
        "model = SimpleNet()\n",
        "print(model)\n"
      ],
      "metadata": {
        "colab": {
          "base_uri": "https://localhost:8080/"
        },
        "id": "kvSM_yw2-miY",
        "outputId": "577a3116-61d7-43bc-da53-48f209a11bd6"
      },
      "execution_count": null,
      "outputs": [
        {
          "output_type": "stream",
          "name": "stdout",
          "text": [
            "SimpleNet(\n",
            "  (fc1): Linear(in_features=784, out_features=64, bias=True)\n",
            "  (fc2): Linear(in_features=64, out_features=10, bias=True)\n",
            ")\n"
          ]
        }
      ]
    },
    {
      "cell_type": "markdown",
      "source": [
        "#Question 7: How do you define a loss function and optimizer in PyTorch?"
      ],
      "metadata": {
        "id": "MuFH969i-rVz"
      }
    },
    {
      "cell_type": "code",
      "source": [
        "import torch\n",
        "import torch.nn as nn\n",
        "import torch.optim as optim\n",
        "\n",
        "# Example model (you need to define your real model)\n",
        "model = nn.Linear(10, 2)  # simple placeholder\n",
        "\n",
        "criterion = nn.CrossEntropyLoss()\n",
        "optimizer = optim.Adam(model.parameters(), lr=0.001)\n",
        "\n",
        "print(\"Loss function:\", criterion)\n",
        "print(\"Optimizer:\", optimizer)\n",
        "print(\"PyTorch version:\", torch.__version__)\n",
        "print(\"CUDA available:\", torch.cuda.is_available())\n"
      ],
      "metadata": {
        "id": "6VWMCsRF-ugQ"
      },
      "execution_count": null,
      "outputs": []
    },
    {
      "cell_type": "markdown",
      "source": [
        "#Question 8: How do you implement a custom loss function in PyTorch?"
      ],
      "metadata": {
        "id": "TuL0US-H-wby"
      }
    },
    {
      "cell_type": "code",
      "source": [
        "import torch\n",
        "\n",
        "class CustomLoss(nn.Module):\n",
        "    def __init__(self):\n",
        "        super(CustomLoss, self).__init__()\n",
        "\n",
        "    def forward(self, predictions, targets):\n",
        "        mse = torch.mean((predictions - targets) ** 2)\n",
        "        l1 = torch.mean(torch.abs(predictions - targets))\n",
        "        return mse + 0.1 * l1\n",
        "\n",
        "criterion = CustomLoss()\n",
        "print(\"Custom Loss function created:\", criterion)\n"
      ],
      "metadata": {
        "colab": {
          "base_uri": "https://localhost:8080/"
        },
        "id": "Rs0SLDHb-zqw",
        "outputId": "2926bd9e-f192-41ee-c462-f10c4fb2ba39"
      },
      "execution_count": null,
      "outputs": [
        {
          "output_type": "stream",
          "name": "stdout",
          "text": [
            "Custom Loss function created: CustomLoss()\n"
          ]
        }
      ]
    },
    {
      "cell_type": "markdown",
      "source": [
        "#Question 9: How do you save and load a TensorFlow model?"
      ],
      "metadata": {
        "id": "90AqKjkq-1sI"
      }
    },
    {
      "cell_type": "code",
      "source": [
        "import tensorflow as tf\n",
        "from tensorflow.keras import layers, models\n",
        "\n",
        "# Build a simple model\n",
        "model = models.Sequential([\n",
        "    layers.Input(shape=(784,)),\n",
        "    layers.Dense(64, activation='relu'),\n",
        "    layers.Dense(10, activation='softmax')\n",
        "])\n",
        "model.compile(optimizer='adam', loss='sparse_categorical_crossentropy')\n",
        "\n",
        "# Save the model\n",
        "model.save(\"/tmp/my_model\")\n",
        "\n",
        "# Load the model\n",
        "loaded_model = tf.keras.models.load_model(\"/tmp/my_model\")\n",
        "print(\"Model loaded successfully!\")\n",
        "loaded_model.summary()\n"
      ],
      "metadata": {
        "colab": {
          "base_uri": "https://localhost:8080/"
        },
        "id": "vbHNXgsV-4yw",
        "outputId": "39b74bd6-e224-4fce-f016-c8d2c62c04fc"
      },
      "execution_count": null,
      "outputs": [
        {
          "output_type": "stream",
          "name": "stderr",
          "text": [
            "WARNING:absl:Found untraced functions such as _update_step_xla while saving (showing 1 of 1). These functions will not be directly callable after loading.\n"
          ]
        },
        {
          "output_type": "stream",
          "name": "stdout",
          "text": [
            "Model loaded successfully!\n",
            "Model: \"sequential_2\"\n",
            "_________________________________________________________________\n",
            " Layer (type)                Output Shape              Param #   \n",
            "=================================================================\n",
            " dense_4 (Dense)             (None, 64)                50240     \n",
            "                                                                 \n",
            " dense_5 (Dense)             (None, 10)                650       \n",
            "                                                                 \n",
            "=================================================================\n",
            "Total params: 50,890\n",
            "Trainable params: 50,890\n",
            "Non-trainable params: 0\n",
            "_________________________________________________________________\n"
          ]
        }
      ]
    },
    {
      "cell_type": "markdown",
      "source": [],
      "metadata": {
        "id": "Ag-O_NtA-6_n"
      }
    }
  ]
}